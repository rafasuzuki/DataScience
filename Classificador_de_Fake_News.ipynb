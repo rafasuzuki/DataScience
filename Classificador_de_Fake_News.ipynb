{
  "nbformat": 4,
  "nbformat_minor": 0,
  "metadata": {
    "colab": {
      "name": "Classificador de Fake News.ipynb",
      "provenance": [],
      "collapsed_sections": [],
      "authorship_tag": "ABX9TyMi1baCWkeBZ7bp2+1OPnE7",
      "include_colab_link": true
    },
    "kernelspec": {
      "name": "python3",
      "display_name": "Python 3"
    },
    "language_info": {
      "name": "python"
    },
    "accelerator": "GPU"
  },
  "cells": [
    {
      "cell_type": "markdown",
      "metadata": {
        "id": "view-in-github",
        "colab_type": "text"
      },
      "source": [
        "<a href=\"https://colab.research.google.com/github/rafasuzuki/DataScience/blob/main/Classificador_de_Fake_News.ipynb\" target=\"_parent\"><img src=\"https://colab.research.google.com/assets/colab-badge.svg\" alt=\"Open In Colab\"/></a>"
      ]
    },
    {
      "cell_type": "markdown",
      "metadata": {
        "id": "mZJrmK-8UdzY"
      },
      "source": [
        "# Classificador de Fake News\n",
        "\n",
        "\n",
        "Vivemos na era digital, onde a informação está mais acessível do que nunca, e continua ficando cada vez mais acessível, de forma mais ágil e ampla.\n",
        "\n",
        "Apesar dos benefícios que isso traz, também existem problemas e riscos com isso. Aqui, vamos nos preocupar com um dos maiores deles: ***Fake News***\n",
        "<p align=center>\n",
        "  <img src=\"https://image.freepik.com/free-photo/woman-reading-newspaper_53876-13446.jpg\" height=\"30%\">\n",
        "</p>\n",
        "\n",
        "Com certeza você já se deparou com uma dessas. Em uma era de informação, a desinformação acaba sendo o nosso maior problema.\n",
        "\n",
        "Em suma, ***Fake News*** são, como a tradução literal sugere, Notícias Falsas. Elas podem ir desde um número diferente em uma estatística apresentada, até a notícia de uma acontecimento completamente falso."
      ]
    },
    {
      "cell_type": "markdown",
      "metadata": {
        "id": "5iVY3XaOUn-t"
      },
      "source": [
        "## Como isso influencia nossa vida?\n",
        "\n",
        "Como de costume, nós tendemos a acreditar nos grandes veículos de mídia, ou de pessoas do nosso ciclo de amigos que nos encaminham notícias em redes sociais. Dessa forma, criamos o hábito de não checar nossas fontes, e assim, acreditamos e disseminamos notícias falsas, às vezes sem nem saber.\n",
        "\n",
        "Isso se torna um grande problema quando afeta o resultado de algo importante no bem comum de nossa sociedade, como resultados de eleições, opinião pública sobre determinados projetos, políticas públicas, e até pessoas públicas, sejam elas do meio político, artístico, jornalístico, ou qualquer outro."
      ]
    },
    {
      "cell_type": "markdown",
      "metadata": {
        "id": "zMmNrN3uUvpb"
      },
      "source": [
        "## O Projeto\n",
        "\n",
        "Hoje em dia, podemos contar com ferramentas que nos ajudem a identificar e filtrar notícias falsas. Com técnicas de *Machine Learning* como **Redes Neurais** essa tarefa de vasculhar diversas fontes de notícias para descobrir o que é falso e o que é factual fica mais fácil.\n",
        "\n",
        "> O objetivo do projeto é treinar um modelo que seja capaz de classificar notícias, com a melhor acurácia possível, entre falsas ou factuais.\n",
        "\n",
        "Para isso, usaremos a biblioteca ***Tensorflow*** para treinar Redes Neurais que façam esse trabalho por nós."
      ]
    },
    {
      "cell_type": "code",
      "metadata": {
        "id": "pHVZrF-rBM-G"
      },
      "source": [
        "# importando os pacotes necessarios\n",
        "import pandas as pd\n",
        "import numpy as np\n",
        "import matplotlib.pyplot as plt\n",
        "import seaborn as sns\n",
        "%tensorflow_version 2.x\n",
        "import tensorflow as tf\n",
        "from tensorflow import keras\n",
        "\n",
        "# configurando o notebook\n",
        "np.random.seed(42)\n",
        "sns.set_style()\n",
        "\n",
        "# filtrar mensagens de warning\n",
        "import warnings \n",
        "warnings.filterwarnings('ignore')"
      ],
      "execution_count": 2,
      "outputs": []
    },
    {
      "cell_type": "code",
      "metadata": {
        "colab": {
          "base_uri": "https://localhost:8080/"
        },
        "id": "1WHRFJ2mCeN7",
        "outputId": "3f73f5fb-2467-444d-ff72-39df8e8b1f4a"
      },
      "source": [
        "#importando o arquivo\n",
        "from google.colab import drive\n",
        "drive.mount('/content/gdrive')"
      ],
      "execution_count": 3,
      "outputs": [
        {
          "output_type": "stream",
          "name": "stdout",
          "text": [
            "Mounted at /content/gdrive\n"
          ]
        }
      ]
    },
    {
      "cell_type": "code",
      "metadata": {
        "colab": {
          "base_uri": "https://localhost:8080/",
          "height": 224
        },
        "id": "H2gxvE-uCznf",
        "outputId": "97cf3e32-cec9-4704-f399-29f6b174b86f"
      },
      "source": [
        "df = pd.read_csv('/content/gdrive/MyDrive/train.csv')\n",
        "\n",
        "print(df.shape)\n",
        "df.head()"
      ],
      "execution_count": 4,
      "outputs": [
        {
          "output_type": "stream",
          "name": "stdout",
          "text": [
            "(20800, 5)\n"
          ]
        },
        {
          "output_type": "execute_result",
          "data": {
            "text/html": [
              "<div>\n",
              "<style scoped>\n",
              "    .dataframe tbody tr th:only-of-type {\n",
              "        vertical-align: middle;\n",
              "    }\n",
              "\n",
              "    .dataframe tbody tr th {\n",
              "        vertical-align: top;\n",
              "    }\n",
              "\n",
              "    .dataframe thead th {\n",
              "        text-align: right;\n",
              "    }\n",
              "</style>\n",
              "<table border=\"1\" class=\"dataframe\">\n",
              "  <thead>\n",
              "    <tr style=\"text-align: right;\">\n",
              "      <th></th>\n",
              "      <th>id</th>\n",
              "      <th>title</th>\n",
              "      <th>author</th>\n",
              "      <th>text</th>\n",
              "      <th>label</th>\n",
              "    </tr>\n",
              "  </thead>\n",
              "  <tbody>\n",
              "    <tr>\n",
              "      <th>0</th>\n",
              "      <td>0</td>\n",
              "      <td>House Dem Aide: We Didn’t Even See Comey’s Let...</td>\n",
              "      <td>Darrell Lucus</td>\n",
              "      <td>House Dem Aide: We Didn’t Even See Comey’s Let...</td>\n",
              "      <td>1</td>\n",
              "    </tr>\n",
              "    <tr>\n",
              "      <th>1</th>\n",
              "      <td>1</td>\n",
              "      <td>FLYNN: Hillary Clinton, Big Woman on Campus - ...</td>\n",
              "      <td>Daniel J. Flynn</td>\n",
              "      <td>Ever get the feeling your life circles the rou...</td>\n",
              "      <td>0</td>\n",
              "    </tr>\n",
              "    <tr>\n",
              "      <th>2</th>\n",
              "      <td>2</td>\n",
              "      <td>Why the Truth Might Get You Fired</td>\n",
              "      <td>Consortiumnews.com</td>\n",
              "      <td>Why the Truth Might Get You Fired October 29, ...</td>\n",
              "      <td>1</td>\n",
              "    </tr>\n",
              "    <tr>\n",
              "      <th>3</th>\n",
              "      <td>3</td>\n",
              "      <td>15 Civilians Killed In Single US Airstrike Hav...</td>\n",
              "      <td>Jessica Purkiss</td>\n",
              "      <td>Videos 15 Civilians Killed In Single US Airstr...</td>\n",
              "      <td>1</td>\n",
              "    </tr>\n",
              "    <tr>\n",
              "      <th>4</th>\n",
              "      <td>4</td>\n",
              "      <td>Iranian woman jailed for fictional unpublished...</td>\n",
              "      <td>Howard Portnoy</td>\n",
              "      <td>Print \\nAn Iranian woman has been sentenced to...</td>\n",
              "      <td>1</td>\n",
              "    </tr>\n",
              "  </tbody>\n",
              "</table>\n",
              "</div>"
            ],
            "text/plain": [
              "   id  ... label\n",
              "0   0  ...     1\n",
              "1   1  ...     0\n",
              "2   2  ...     1\n",
              "3   3  ...     1\n",
              "4   4  ...     1\n",
              "\n",
              "[5 rows x 5 columns]"
            ]
          },
          "metadata": {},
          "execution_count": 4
        }
      ]
    },
    {
      "cell_type": "markdown",
      "metadata": {
        "id": "65eWZeEzVAge"
      },
      "source": [
        "### Os Dados\n",
        "Nosso conjunto de dados possui quase 21 mil linhas e 5 colunas, das quais temos:\n",
        "\n",
        "\n",
        "\n",
        "* `id` - número da entrada\n",
        "* `title` - Título da notícia\n",
        "* `author` - Autor da notícia \n",
        "* `text` - Texto da notícia\n",
        "* `label` que é nossa variável alvo e está dividida em:\n",
        "  * True (Factual) = 0\n",
        "  * Fake (Falsa) = 1"
      ]
    },
    {
      "cell_type": "markdown",
      "metadata": {
        "id": "wMDaJL7gWKzI"
      },
      "source": [
        "### Tratando os Dados\n",
        "\n",
        "Aqui, estamos lidando com nossa linguagem natural em formato de `string`, então precisamos de alguns conhecimentos de NLP para tratar esses dados da melhor forma, para que possam ser passados ao nosso modelo com sucesso, e dessa forma, obtermos os resultados que desejamos."
      ]
    },
    {
      "cell_type": "code",
      "metadata": {
        "colab": {
          "base_uri": "https://localhost:8080/",
          "height": 206
        },
        "id": "0gxHDiVjDHwJ",
        "outputId": "2c13fc03-ea59-4743-eaef-e5d6e089431d"
      },
      "source": [
        "# tratando do texto das notícias\n",
        "import string\n",
        "def clean_text (text):\n",
        "    words = str(text).split()\n",
        "    words = [i.lower() + \" \" for i in words]\n",
        "    words = \" \".join(words)\n",
        "    words = words.translate(words.maketrans('', '', string.punctuation))\n",
        "    return words\n",
        "\n",
        "df['text'] = df['text'].apply(clean_text)\n",
        "df.head()  \n"
      ],
      "execution_count": 8,
      "outputs": [
        {
          "output_type": "execute_result",
          "data": {
            "text/html": [
              "<div>\n",
              "<style scoped>\n",
              "    .dataframe tbody tr th:only-of-type {\n",
              "        vertical-align: middle;\n",
              "    }\n",
              "\n",
              "    .dataframe tbody tr th {\n",
              "        vertical-align: top;\n",
              "    }\n",
              "\n",
              "    .dataframe thead th {\n",
              "        text-align: right;\n",
              "    }\n",
              "</style>\n",
              "<table border=\"1\" class=\"dataframe\">\n",
              "  <thead>\n",
              "    <tr style=\"text-align: right;\">\n",
              "      <th></th>\n",
              "      <th>id</th>\n",
              "      <th>title</th>\n",
              "      <th>author</th>\n",
              "      <th>text</th>\n",
              "      <th>label</th>\n",
              "    </tr>\n",
              "  </thead>\n",
              "  <tbody>\n",
              "    <tr>\n",
              "      <th>0</th>\n",
              "      <td>0</td>\n",
              "      <td>House Dem Aide: We Didn’t Even See Comey’s Let...</td>\n",
              "      <td>Darrell Lucus</td>\n",
              "      <td>house  dem  aide  we  didn’t  even  see  comey...</td>\n",
              "      <td>1</td>\n",
              "    </tr>\n",
              "    <tr>\n",
              "      <th>1</th>\n",
              "      <td>1</td>\n",
              "      <td>FLYNN: Hillary Clinton, Big Woman on Campus - ...</td>\n",
              "      <td>Daniel J. Flynn</td>\n",
              "      <td>ever  get  the  feeling  your  life  circles  ...</td>\n",
              "      <td>0</td>\n",
              "    </tr>\n",
              "    <tr>\n",
              "      <th>2</th>\n",
              "      <td>2</td>\n",
              "      <td>Why the Truth Might Get You Fired</td>\n",
              "      <td>Consortiumnews.com</td>\n",
              "      <td>why  the  truth  might  get  you  fired  octob...</td>\n",
              "      <td>1</td>\n",
              "    </tr>\n",
              "    <tr>\n",
              "      <th>3</th>\n",
              "      <td>3</td>\n",
              "      <td>15 Civilians Killed In Single US Airstrike Hav...</td>\n",
              "      <td>Jessica Purkiss</td>\n",
              "      <td>videos  15  civilians  killed  in  single  us ...</td>\n",
              "      <td>1</td>\n",
              "    </tr>\n",
              "    <tr>\n",
              "      <th>4</th>\n",
              "      <td>4</td>\n",
              "      <td>Iranian woman jailed for fictional unpublished...</td>\n",
              "      <td>Howard Portnoy</td>\n",
              "      <td>print  an  iranian  woman  has  been  sentence...</td>\n",
              "      <td>1</td>\n",
              "    </tr>\n",
              "  </tbody>\n",
              "</table>\n",
              "</div>"
            ],
            "text/plain": [
              "   id  ... label\n",
              "0   0  ...     1\n",
              "1   1  ...     0\n",
              "2   2  ...     1\n",
              "3   3  ...     1\n",
              "4   4  ...     1\n",
              "\n",
              "[5 rows x 5 columns]"
            ]
          },
          "metadata": {},
          "execution_count": 8
        }
      ]
    },
    {
      "cell_type": "markdown",
      "metadata": {
        "id": "mtmgjce9WQ7J"
      },
      "source": [
        "Agora, o que precisamos é separar nossos dados em treino, validação e teste, para que possamos continuar a trilhar o caminho que nos leva ao modelo."
      ]
    },
    {
      "cell_type": "code",
      "metadata": {
        "colab": {
          "base_uri": "https://localhost:8080/"
        },
        "id": "_E8u0EGdFVxW",
        "outputId": "5ce41c7d-f249-4089-88b6-af89f8562587"
      },
      "source": [
        "# separando os datasets em treino, validação e teste\n",
        "from sklearn.model_selection import train_test_split\n",
        "\n",
        "train, test = train_test_split(df)\n",
        "train, validation = train_test_split(train, test_size = 0.2)\n",
        "print('Entradas por Dataset')\n",
        "print('Dataset de Treino:',len(train), 'linhas.')\n",
        "print('Dataset de Validação: ', len(validation), 'linhas.')\n",
        "print('Dataset de Teste: ', len(test), 'linhas.')"
      ],
      "execution_count": 9,
      "outputs": [
        {
          "output_type": "stream",
          "name": "stdout",
          "text": [
            "Entradas por Dataset\n",
            "Dataset de Treino: 12480 linhas.\n",
            "Dataset de Validação:  3120 linhas.\n",
            "Dataset de Teste:  5200 linhas.\n"
          ]
        }
      ]
    },
    {
      "cell_type": "markdown",
      "metadata": {
        "id": "Hmx3djB6WWMw"
      },
      "source": [
        "### Pré-Processamento de Strings - NLP\n",
        "\n",
        "Aqui neste projeto estamos focando em ***Deep Learning*** e a implementação de **Redes Neurais**, por isso, não iremos nos extender em pré-processamento de Strings.\n",
        "\n",
        "De qualquer forma, esse é um ponto importante do projeto. Aqui, basicamente o que queremos é simplificar o texto, para que seja mais fácil do nosso modelo processar e entender. Por isso, iremos utilizar uma técnica que se chama ***Tokenizing***.\n",
        "\n",
        "Em suma, Tokenizing, ou Tokenização, em tradução livre, é um passo que separa longos textos de strings em pedaços de textos mais curtos, chamados de tokens.\n",
        "\n",
        "<p align=center>\n",
        "  <img src=\"https://www.kdnuggets.com/wp-content/uploads/text-tokens-tokenization-manning.jpg\" height=\"30%\">\n",
        "</p>\n",
        "\n",
        "Para ler mais sobre esse assunto e entender melhor os passos e parâmetros abaixo, deixarei links de referência [aqui](https://www.kdnuggets.com/2017/12/general-approach-preprocessing-text-data.html) e [aqui](https://www.kdnuggets.com/2020/03/tensorflow-keras-tokenization-text-data-prep.html)."
      ]
    },
    {
      "cell_type": "code",
      "metadata": {
        "id": "bYiO861UGlaT"
      },
      "source": [
        "# preparando os dados para o modelo\n",
        "from tensorflow.keras.preprocessing.text import Tokenizer\n",
        "from tensorflow.keras.preprocessing.sequence import pad_sequences\n",
        "\n",
        "vocab_size = 10000\n",
        "trunc_type = \"post\"\n",
        "pad_type = \"post\"\n",
        "oov_tok = \"<OOV>\"\n",
        "tokenizer = Tokenizer(num_words = vocab_size,oov_token=oov_tok)\n",
        "tokenizer.fit_on_texts(train.text)\n",
        "word_index = tokenizer.word_index\n",
        "\n",
        "# aplicando técnicas tokenizing e padding\n",
        "training_sequences = tokenizer.texts_to_sequences(np.array(train.text))\n",
        "training_padded = pad_sequences(training_sequences, truncating=trunc_type, padding=pad_type)\n",
        "\n",
        "max_length = len(training_padded[0])\n",
        "\n",
        "validation_sequences = tokenizer.texts_to_sequences(np.array(validation.text))\n",
        "validation_padded = pad_sequences(validation_sequences, padding=pad_type, truncating=trunc_type, maxlen = max_length)\n",
        "\n",
        "# criando arrays com inputs\n",
        "X_train = np.copy(training_padded)\n",
        "X_val = np.copy(validation_padded)\n",
        "y_train = train['label'].values \n",
        "y_val = validation['label'].values"
      ],
      "execution_count": 16,
      "outputs": []
    },
    {
      "cell_type": "code",
      "metadata": {
        "colab": {
          "base_uri": "https://localhost:8080/"
        },
        "id": "j4kWqofbHKKt",
        "outputId": "024942c3-1fb3-4405-9c9c-f4244d794a1e"
      },
      "source": [
        "#veriificando o tamanho dos arrays \n",
        "print('Tamanho das Arrays')\n",
        "print('Treino', len(X_train), 'linhas.')\n",
        "print('Resposta:', len(y_train), 'linhas.')"
      ],
      "execution_count": 17,
      "outputs": [
        {
          "output_type": "stream",
          "name": "stdout",
          "text": [
            "Tamanho das Arrays\n",
            "Treino 12480 linhas.\n",
            "Resposta: 12480 linhas.\n"
          ]
        }
      ]
    },
    {
      "cell_type": "markdown",
      "metadata": {
        "id": "w26KogpwWknb"
      },
      "source": [
        "### Preparando, Instanciando e Treinando o Modelo\n",
        "\n",
        "Agora que nossos dados estão prontos, é hora de ir ao que interessa.\n",
        "\n",
        "Foi feito um RandomSearch para encontrar os melhores parâmetros, em um processo lento e externo a este notebook, e instanciado um modelo que usa os melhores parâmetros encontrados."
      ]
    },
    {
      "cell_type": "code",
      "metadata": {
        "colab": {
          "base_uri": "https://localhost:8080/"
        },
        "id": "vepiOFvLKRRy",
        "outputId": "3175a2bb-33ba-4987-db34-9e4dc1011e34"
      },
      "source": [
        "# instanciando e dando fit no modelo\n",
        "model = tf.keras.Sequential([\n",
        "        tf.keras.layers.Embedding(vocab_size, (155), input_length=max_length),\n",
        "        tf.keras.layers.Conv1D(16, 5, activation='relu'),\n",
        "        tf.keras.layers.GlobalMaxPooling1D(),\n",
        "        tf.keras.layers.Dense(1, activation='sigmoid')\n",
        "        ])\n",
        "\n",
        "model.compile(loss='binary_crossentropy',\n",
        "              optimizer=tf.keras.optimizers.Adam(learning_rate=0.001),\n",
        "              metrics=['accuracy'])\n",
        "history = model.fit(X_train, y_train, verbose = 2, epochs = 3, validation_data = (X_val, y_val),\n",
        "                    callbacks=[tf.keras.callbacks.EarlyStopping('val_loss', patience=6)])"
      ],
      "execution_count": 20,
      "outputs": [
        {
          "output_type": "stream",
          "name": "stdout",
          "text": [
            "Epoch 1/3\n",
            "390/390 - 108s - loss: 0.2461 - accuracy: 0.9169 - val_loss: 0.0731 - val_accuracy: 0.9750\n",
            "Epoch 2/3\n",
            "390/390 - 76s - loss: 0.0446 - accuracy: 0.9866 - val_loss: 0.0500 - val_accuracy: 0.9830\n",
            "Epoch 3/3\n",
            "390/390 - 75s - loss: 0.0130 - accuracy: 0.9979 - val_loss: 0.0448 - val_accuracy: 0.9843\n"
          ]
        }
      ]
    },
    {
      "cell_type": "markdown",
      "metadata": {
        "id": "ZnDpv452WoNY"
      },
      "source": [
        "Os resultados são bem promissores, apesar de carecerem de uma maior investigação. No entanto, cumpriu o objetivo de demonstrar o poder das Redes Neurais."
      ]
    },
    {
      "cell_type": "code",
      "metadata": {
        "colab": {
          "base_uri": "https://localhost:8080/",
          "height": 541
        },
        "id": "WfGx8lnbL7gI",
        "outputId": "1ac6adb1-5748-4bd8-8337-216d6459694b"
      },
      "source": [
        "#visualizando os resultados\n",
        "def plot_graphs(history, string):\n",
        "  plt.plot(history.history[string])\n",
        "  plt.plot(history.history['val_'+string])\n",
        "  plt.xlabel('Epochs')\n",
        "  plt.ylabel(string)\n",
        "  plt.legend([string, 'val_'+string])\n",
        "  plt.show()\n",
        "\n",
        "plot_graphs(history, 'accuracy')\n",
        "plot_graphs(history, 'loss')  "
      ],
      "execution_count": 21,
      "outputs": [
        {
          "output_type": "display_data",
          "data": {
            "image/png": "[encoded data removed]",
            "text/plain": [
              "<Figure size 432x288 with 1 Axes>"
            ]
          },
          "metadata": {
            "needs_background": "light"
          }
        },
        {
          "output_type": "display_data",
          "data": {
            "image/png": "[encoded data removed]",
            "text/plain": [
              "<Figure size 432x288 with 1 Axes>"
            ]
          },
          "metadata": {
            "needs_background": "light"
          }
        }
      ]
    },
    {
      "cell_type": "markdown",
      "metadata": {
        "id": "xcKrpH4bWr3K"
      },
      "source": [
        "### Fazendo Previsões no Conjunto de Teste\n",
        "\n",
        "Por fim, temos o pipeline ideal para tratar nossos dados, já treinamos, tunamos e obtivemos excelentes resultados em nosso conjunto de validação. Nosso modelo está pronto, mas ele tem mais uma missão a cumprir. \n",
        "\n",
        "Vamos apresentar dados completamente novos a ele, fazer previsõs e ver como ele se sai."
      ]
    },
    {
      "cell_type": "code",
      "metadata": {
        "id": "mTjSEv_MOWpr"
      },
      "source": [
        "#tratando os dados de teste\n",
        "test_sequences = tokenizer.texts_to_sequences(np.array(test.text))\n",
        "test_padded = pad_sequences(test_sequences, padding=pad_type, truncating=trunc_type, maxlen= max_length)\n"
      ],
      "execution_count": 22,
      "outputs": []
    },
    {
      "cell_type": "code",
      "metadata": {
        "id": "sOYGRHWpPesU"
      },
      "source": [
        "# fazendo previsões\n",
        "preds = np.round(model.predict(test_padded))"
      ],
      "execution_count": 23,
      "outputs": []
    },
    {
      "cell_type": "code",
      "metadata": {
        "colab": {
          "base_uri": "https://localhost:8080/"
        },
        "id": "fnBuNuMPPpOT",
        "outputId": "aff69d63-78f2-4cc0-a760-eb555a777984"
      },
      "source": [
        "# conferindo o tamanho do resultado\n",
        "len(preds)"
      ],
      "execution_count": 24,
      "outputs": [
        {
          "output_type": "execute_result",
          "data": {
            "text/plain": [
              "5200"
            ]
          },
          "metadata": {},
          "execution_count": 24
        }
      ]
    },
    {
      "cell_type": "code",
      "metadata": {
        "colab": {
          "base_uri": "https://localhost:8080/"
        },
        "id": "XUBXD55qPuOJ",
        "outputId": "080b7223-d941-42a8-dbd7-de49c525c034"
      },
      "source": [
        "# verificando a acurácia\n",
        "acc = np.sum(1 if i==j else 0 for i, j in zip(preds, test['label'].values)) / len(test)\n",
        "print('Accuracy:',acc)"
      ],
      "execution_count": 25,
      "outputs": [
        {
          "output_type": "stream",
          "name": "stdout",
          "text": [
            "Accuracy: 0.984423076923077\n"
          ]
        }
      ]
    }
  ]
}